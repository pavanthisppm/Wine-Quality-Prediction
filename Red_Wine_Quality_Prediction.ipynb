{
  "nbformat": 4,
  "nbformat_minor": 0,
  "metadata": {
    "colab": {
      "name": "Red Wine Quality Prediction.ipynb",
      "provenance": [],
      "authorship_tag": "ABX9TyPOZfB3AiBDOeCR8zNvK6dP",
      "include_colab_link": true
    },
    "kernelspec": {
      "name": "python3",
      "display_name": "Python 3"
    },
    "language_info": {
      "name": "python"
    }
  },
  "cells": [
    {
      "cell_type": "markdown",
      "metadata": {
        "id": "view-in-github",
        "colab_type": "text"
      },
      "source": [
        "<a href=\"https://colab.research.google.com/github/pavanthisppm/Wine-Quality-Prediction/blob/main/Red_Wine_Quality_Prediction.ipynb\" target=\"_parent\"><img src=\"https://colab.research.google.com/assets/colab-badge.svg\" alt=\"Open In Colab\"/></a>"
      ]
    },
    {
      "cell_type": "markdown",
      "source": [
        "# **Dataset**"
      ],
      "metadata": {
        "id": "66Kg2GNdaZiB"
      }
    },
    {
      "cell_type": "markdown",
      "source": [
        "Red Wine Quality Dataset: https://archive.ics.uci.edu/ml/machine-learning-databases/wine-quality/winequality-red.csv Data set information: https://archive.ics.uci.edu/ml/machine-learning-databases/wine-quality/winequality.names The following are explanations of the columns (variables):\n",
        "\n",
        "![image.png](data:image/png;base64,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)\n",
        "\n",
        "There are 12 columns which represent 11 features and the one target variable ‘quality’.\n"
      ],
      "metadata": {
        "id": "0isHYlDramv-"
      }
    },
    {
      "cell_type": "markdown",
      "source": [
        "**Problem introduction** The problem is how to predict red wine quality is bad or good based on its other attributes using past data."
      ],
      "metadata": {
        "id": "myOLqaHbbISH"
      }
    },
    {
      "cell_type": "markdown",
      "source": [
        "**My approach** Try to create a suitable model to predict the wine quality (good/bad) using a random forest classifier."
      ],
      "metadata": {
        "id": "wRcZDMlobK2A"
      }
    },
    {
      "cell_type": "markdown",
      "source": [
        "**Importing Libraries and Dataset**"
      ],
      "metadata": {
        "id": "t4Fl5EUEbO3E"
      }
    },
    {
      "cell_type": "code",
      "execution_count": null,
      "metadata": {
        "id": "hKsG6uqRQ6Ib"
      },
      "outputs": [],
      "source": [
        "import pandas as pd\n",
        "import numpy as np\n",
        "import matplotlib.pyplot as plt\n",
        "import sklearn\n",
        "from sklearn.ensemble import RandomForestClassifier\n",
        "from sklearn.model_selection import train_test_split\n",
        "from sklearn.metrics import confusion_matrix\n",
        "import seaborn as sn"
      ]
    },
    {
      "cell_type": "code",
      "source": [
        "df = pd.read_csv(\"https://archive.ics.uci.edu/ml/machine-learning-databases/wine-quality/winequality-red.csv\" ,sep=';')\n",
        "df.head()"
      ],
      "metadata": {
        "colab": {
          "base_uri": "https://localhost:8080/",
          "height": 250
        },
        "id": "5SmFjuTdREtY",
        "outputId": "3fc8ec4f-be8b-4d2b-befa-99e68ebcbf7b"
      },
      "execution_count": null,
      "outputs": [
        {
          "output_type": "execute_result",
          "data": {
            "text/html": [
              "\n",
              "  <div id=\"df-fabd7b0c-45c3-4ceb-bcb7-e0fc518fa531\">\n",
              "    <div class=\"colab-df-container\">\n",
              "      <div>\n",
              "<style scoped>\n",
              "    .dataframe tbody tr th:only-of-type {\n",
              "        vertical-align: middle;\n",
              "    }\n",
              "\n",
              "    .dataframe tbody tr th {\n",
              "        vertical-align: top;\n",
              "    }\n",
              "\n",
              "    .dataframe thead th {\n",
              "        text-align: right;\n",
              "    }\n",
              "</style>\n",
              "<table border=\"1\" class=\"dataframe\">\n",
              "  <thead>\n",
              "    <tr style=\"text-align: right;\">\n",
              "      <th></th>\n",
              "      <th>fixed acidity</th>\n",
              "      <th>volatile acidity</th>\n",
              "      <th>citric acid</th>\n",
              "      <th>residual sugar</th>\n",
              "      <th>chlorides</th>\n",
              "      <th>free sulfur dioxide</th>\n",
              "      <th>total sulfur dioxide</th>\n",
              "      <th>density</th>\n",
              "      <th>pH</th>\n",
              "      <th>sulphates</th>\n",
              "      <th>alcohol</th>\n",
              "      <th>quality</th>\n",
              "    </tr>\n",
              "  </thead>\n",
              "  <tbody>\n",
              "    <tr>\n",
              "      <th>0</th>\n",
              "      <td>7.4</td>\n",
              "      <td>0.70</td>\n",
              "      <td>0.00</td>\n",
              "      <td>1.9</td>\n",
              "      <td>0.076</td>\n",
              "      <td>11.0</td>\n",
              "      <td>34.0</td>\n",
              "      <td>0.9978</td>\n",
              "      <td>3.51</td>\n",
              "      <td>0.56</td>\n",
              "      <td>9.4</td>\n",
              "      <td>5</td>\n",
              "    </tr>\n",
              "    <tr>\n",
              "      <th>1</th>\n",
              "      <td>7.8</td>\n",
              "      <td>0.88</td>\n",
              "      <td>0.00</td>\n",
              "      <td>2.6</td>\n",
              "      <td>0.098</td>\n",
              "      <td>25.0</td>\n",
              "      <td>67.0</td>\n",
              "      <td>0.9968</td>\n",
              "      <td>3.20</td>\n",
              "      <td>0.68</td>\n",
              "      <td>9.8</td>\n",
              "      <td>5</td>\n",
              "    </tr>\n",
              "    <tr>\n",
              "      <th>2</th>\n",
              "      <td>7.8</td>\n",
              "      <td>0.76</td>\n",
              "      <td>0.04</td>\n",
              "      <td>2.3</td>\n",
              "      <td>0.092</td>\n",
              "      <td>15.0</td>\n",
              "      <td>54.0</td>\n",
              "      <td>0.9970</td>\n",
              "      <td>3.26</td>\n",
              "      <td>0.65</td>\n",
              "      <td>9.8</td>\n",
              "      <td>5</td>\n",
              "    </tr>\n",
              "    <tr>\n",
              "      <th>3</th>\n",
              "      <td>11.2</td>\n",
              "      <td>0.28</td>\n",
              "      <td>0.56</td>\n",
              "      <td>1.9</td>\n",
              "      <td>0.075</td>\n",
              "      <td>17.0</td>\n",
              "      <td>60.0</td>\n",
              "      <td>0.9980</td>\n",
              "      <td>3.16</td>\n",
              "      <td>0.58</td>\n",
              "      <td>9.8</td>\n",
              "      <td>6</td>\n",
              "    </tr>\n",
              "    <tr>\n",
              "      <th>4</th>\n",
              "      <td>7.4</td>\n",
              "      <td>0.70</td>\n",
              "      <td>0.00</td>\n",
              "      <td>1.9</td>\n",
              "      <td>0.076</td>\n",
              "      <td>11.0</td>\n",
              "      <td>34.0</td>\n",
              "      <td>0.9978</td>\n",
              "      <td>3.51</td>\n",
              "      <td>0.56</td>\n",
              "      <td>9.4</td>\n",
              "      <td>5</td>\n",
              "    </tr>\n",
              "  </tbody>\n",
              "</table>\n",
              "</div>\n",
              "      <button class=\"colab-df-convert\" onclick=\"convertToInteractive('df-fabd7b0c-45c3-4ceb-bcb7-e0fc518fa531')\"\n",
              "              title=\"Convert this dataframe to an interactive table.\"\n",
              "              style=\"display:none;\">\n",
              "        \n",
              "  <svg xmlns=\"http://www.w3.org/2000/svg\" height=\"24px\"viewBox=\"0 0 24 24\"\n",
              "       width=\"24px\">\n",
              "    <path d=\"M0 0h24v24H0V0z\" fill=\"none\"/>\n",
              "    <path d=\"M18.56 5.44l.94 2.06.94-2.06 2.06-.94-2.06-.94-.94-2.06-.94 2.06-2.06.94zm-11 1L8.5 8.5l.94-2.06 2.06-.94-2.06-.94L8.5 2.5l-.94 2.06-2.06.94zm10 10l.94 2.06.94-2.06 2.06-.94-2.06-.94-.94-2.06-.94 2.06-2.06.94z\"/><path d=\"M17.41 7.96l-1.37-1.37c-.4-.4-.92-.59-1.43-.59-.52 0-1.04.2-1.43.59L10.3 9.45l-7.72 7.72c-.78.78-.78 2.05 0 2.83L4 21.41c.39.39.9.59 1.41.59.51 0 1.02-.2 1.41-.59l7.78-7.78 2.81-2.81c.8-.78.8-2.07 0-2.86zM5.41 20L4 18.59l7.72-7.72 1.47 1.35L5.41 20z\"/>\n",
              "  </svg>\n",
              "      </button>\n",
              "      \n",
              "  <style>\n",
              "    .colab-df-container {\n",
              "      display:flex;\n",
              "      flex-wrap:wrap;\n",
              "      gap: 12px;\n",
              "    }\n",
              "\n",
              "    .colab-df-convert {\n",
              "      background-color: #E8F0FE;\n",
              "      border: none;\n",
              "      border-radius: 50%;\n",
              "      cursor: pointer;\n",
              "      display: none;\n",
              "      fill: #1967D2;\n",
              "      height: 32px;\n",
              "      padding: 0 0 0 0;\n",
              "      width: 32px;\n",
              "    }\n",
              "\n",
              "    .colab-df-convert:hover {\n",
              "      background-color: #E2EBFA;\n",
              "      box-shadow: 0px 1px 2px rgba(60, 64, 67, 0.3), 0px 1px 3px 1px rgba(60, 64, 67, 0.15);\n",
              "      fill: #174EA6;\n",
              "    }\n",
              "\n",
              "    [theme=dark] .colab-df-convert {\n",
              "      background-color: #3B4455;\n",
              "      fill: #D2E3FC;\n",
              "    }\n",
              "\n",
              "    [theme=dark] .colab-df-convert:hover {\n",
              "      background-color: #434B5C;\n",
              "      box-shadow: 0px 1px 3px 1px rgba(0, 0, 0, 0.15);\n",
              "      filter: drop-shadow(0px 1px 2px rgba(0, 0, 0, 0.3));\n",
              "      fill: #FFFFFF;\n",
              "    }\n",
              "  </style>\n",
              "\n",
              "      <script>\n",
              "        const buttonEl =\n",
              "          document.querySelector('#df-fabd7b0c-45c3-4ceb-bcb7-e0fc518fa531 button.colab-df-convert');\n",
              "        buttonEl.style.display =\n",
              "          google.colab.kernel.accessAllowed ? 'block' : 'none';\n",
              "\n",
              "        async function convertToInteractive(key) {\n",
              "          const element = document.querySelector('#df-fabd7b0c-45c3-4ceb-bcb7-e0fc518fa531');\n",
              "          const dataTable =\n",
              "            await google.colab.kernel.invokeFunction('convertToInteractive',\n",
              "                                                     [key], {});\n",
              "          if (!dataTable) return;\n",
              "\n",
              "          const docLinkHtml = 'Like what you see? Visit the ' +\n",
              "            '<a target=\"_blank\" href=https://colab.research.google.com/notebooks/data_table.ipynb>data table notebook</a>'\n",
              "            + ' to learn more about interactive tables.';\n",
              "          element.innerHTML = '';\n",
              "          dataTable['output_type'] = 'display_data';\n",
              "          await google.colab.output.renderOutput(dataTable, element);\n",
              "          const docLink = document.createElement('div');\n",
              "          docLink.innerHTML = docLinkHtml;\n",
              "          element.appendChild(docLink);\n",
              "        }\n",
              "      </script>\n",
              "    </div>\n",
              "  </div>\n",
              "  "
            ],
            "text/plain": [
              "   fixed acidity  volatile acidity  citric acid  ...  sulphates  alcohol  quality\n",
              "0            7.4              0.70         0.00  ...       0.56      9.4        5\n",
              "1            7.8              0.88         0.00  ...       0.68      9.8        5\n",
              "2            7.8              0.76         0.04  ...       0.65      9.8        5\n",
              "3           11.2              0.28         0.56  ...       0.58      9.8        6\n",
              "4            7.4              0.70         0.00  ...       0.56      9.4        5\n",
              "\n",
              "[5 rows x 12 columns]"
            ]
          },
          "metadata": {},
          "execution_count": 2
        }
      ]
    },
    {
      "cell_type": "markdown",
      "source": [
        "# **Cleaning Data**"
      ],
      "metadata": {
        "id": "bCPliab_bXGu"
      }
    },
    {
      "cell_type": "markdown",
      "source": [
        "**Rename the column names**"
      ],
      "metadata": {
        "id": "ycsNu6-VbZ-8"
      }
    },
    {
      "cell_type": "code",
      "source": [
        "#There are spaces between some column names. Replace those spaces by underscore(‘_’). \n",
        "df.columns = df.columns.str.replace(' ', '_')\n",
        "df.head()"
      ],
      "metadata": {
        "colab": {
          "base_uri": "https://localhost:8080/",
          "height": 250
        },
        "id": "7_fXJrBhRMgl",
        "outputId": "0848d847-2aec-41f2-e87c-2f20db14fbd5"
      },
      "execution_count": null,
      "outputs": [
        {
          "output_type": "execute_result",
          "data": {
            "text/html": [
              "\n",
              "  <div id=\"df-767af0ea-f551-4c05-98b3-b4703e8b7be8\">\n",
              "    <div class=\"colab-df-container\">\n",
              "      <div>\n",
              "<style scoped>\n",
              "    .dataframe tbody tr th:only-of-type {\n",
              "        vertical-align: middle;\n",
              "    }\n",
              "\n",
              "    .dataframe tbody tr th {\n",
              "        vertical-align: top;\n",
              "    }\n",
              "\n",
              "    .dataframe thead th {\n",
              "        text-align: right;\n",
              "    }\n",
              "</style>\n",
              "<table border=\"1\" class=\"dataframe\">\n",
              "  <thead>\n",
              "    <tr style=\"text-align: right;\">\n",
              "      <th></th>\n",
              "      <th>fixed_acidity</th>\n",
              "      <th>volatile_acidity</th>\n",
              "      <th>citric_acid</th>\n",
              "      <th>residual_sugar</th>\n",
              "      <th>chlorides</th>\n",
              "      <th>free_sulfur_dioxide</th>\n",
              "      <th>total_sulfur_dioxide</th>\n",
              "      <th>density</th>\n",
              "      <th>pH</th>\n",
              "      <th>sulphates</th>\n",
              "      <th>alcohol</th>\n",
              "      <th>quality</th>\n",
              "    </tr>\n",
              "  </thead>\n",
              "  <tbody>\n",
              "    <tr>\n",
              "      <th>0</th>\n",
              "      <td>7.4</td>\n",
              "      <td>0.70</td>\n",
              "      <td>0.00</td>\n",
              "      <td>1.9</td>\n",
              "      <td>0.076</td>\n",
              "      <td>11.0</td>\n",
              "      <td>34.0</td>\n",
              "      <td>0.9978</td>\n",
              "      <td>3.51</td>\n",
              "      <td>0.56</td>\n",
              "      <td>9.4</td>\n",
              "      <td>5</td>\n",
              "    </tr>\n",
              "    <tr>\n",
              "      <th>1</th>\n",
              "      <td>7.8</td>\n",
              "      <td>0.88</td>\n",
              "      <td>0.00</td>\n",
              "      <td>2.6</td>\n",
              "      <td>0.098</td>\n",
              "      <td>25.0</td>\n",
              "      <td>67.0</td>\n",
              "      <td>0.9968</td>\n",
              "      <td>3.20</td>\n",
              "      <td>0.68</td>\n",
              "      <td>9.8</td>\n",
              "      <td>5</td>\n",
              "    </tr>\n",
              "    <tr>\n",
              "      <th>2</th>\n",
              "      <td>7.8</td>\n",
              "      <td>0.76</td>\n",
              "      <td>0.04</td>\n",
              "      <td>2.3</td>\n",
              "      <td>0.092</td>\n",
              "      <td>15.0</td>\n",
              "      <td>54.0</td>\n",
              "      <td>0.9970</td>\n",
              "      <td>3.26</td>\n",
              "      <td>0.65</td>\n",
              "      <td>9.8</td>\n",
              "      <td>5</td>\n",
              "    </tr>\n",
              "    <tr>\n",
              "      <th>3</th>\n",
              "      <td>11.2</td>\n",
              "      <td>0.28</td>\n",
              "      <td>0.56</td>\n",
              "      <td>1.9</td>\n",
              "      <td>0.075</td>\n",
              "      <td>17.0</td>\n",
              "      <td>60.0</td>\n",
              "      <td>0.9980</td>\n",
              "      <td>3.16</td>\n",
              "      <td>0.58</td>\n",
              "      <td>9.8</td>\n",
              "      <td>6</td>\n",
              "    </tr>\n",
              "    <tr>\n",
              "      <th>4</th>\n",
              "      <td>7.4</td>\n",
              "      <td>0.70</td>\n",
              "      <td>0.00</td>\n",
              "      <td>1.9</td>\n",
              "      <td>0.076</td>\n",
              "      <td>11.0</td>\n",
              "      <td>34.0</td>\n",
              "      <td>0.9978</td>\n",
              "      <td>3.51</td>\n",
              "      <td>0.56</td>\n",
              "      <td>9.4</td>\n",
              "      <td>5</td>\n",
              "    </tr>\n",
              "  </tbody>\n",
              "</table>\n",
              "</div>\n",
              "      <button class=\"colab-df-convert\" onclick=\"convertToInteractive('df-767af0ea-f551-4c05-98b3-b4703e8b7be8')\"\n",
              "              title=\"Convert this dataframe to an interactive table.\"\n",
              "              style=\"display:none;\">\n",
              "        \n",
              "  <svg xmlns=\"http://www.w3.org/2000/svg\" height=\"24px\"viewBox=\"0 0 24 24\"\n",
              "       width=\"24px\">\n",
              "    <path d=\"M0 0h24v24H0V0z\" fill=\"none\"/>\n",
              "    <path d=\"M18.56 5.44l.94 2.06.94-2.06 2.06-.94-2.06-.94-.94-2.06-.94 2.06-2.06.94zm-11 1L8.5 8.5l.94-2.06 2.06-.94-2.06-.94L8.5 2.5l-.94 2.06-2.06.94zm10 10l.94 2.06.94-2.06 2.06-.94-2.06-.94-.94-2.06-.94 2.06-2.06.94z\"/><path d=\"M17.41 7.96l-1.37-1.37c-.4-.4-.92-.59-1.43-.59-.52 0-1.04.2-1.43.59L10.3 9.45l-7.72 7.72c-.78.78-.78 2.05 0 2.83L4 21.41c.39.39.9.59 1.41.59.51 0 1.02-.2 1.41-.59l7.78-7.78 2.81-2.81c.8-.78.8-2.07 0-2.86zM5.41 20L4 18.59l7.72-7.72 1.47 1.35L5.41 20z\"/>\n",
              "  </svg>\n",
              "      </button>\n",
              "      \n",
              "  <style>\n",
              "    .colab-df-container {\n",
              "      display:flex;\n",
              "      flex-wrap:wrap;\n",
              "      gap: 12px;\n",
              "    }\n",
              "\n",
              "    .colab-df-convert {\n",
              "      background-color: #E8F0FE;\n",
              "      border: none;\n",
              "      border-radius: 50%;\n",
              "      cursor: pointer;\n",
              "      display: none;\n",
              "      fill: #1967D2;\n",
              "      height: 32px;\n",
              "      padding: 0 0 0 0;\n",
              "      width: 32px;\n",
              "    }\n",
              "\n",
              "    .colab-df-convert:hover {\n",
              "      background-color: #E2EBFA;\n",
              "      box-shadow: 0px 1px 2px rgba(60, 64, 67, 0.3), 0px 1px 3px 1px rgba(60, 64, 67, 0.15);\n",
              "      fill: #174EA6;\n",
              "    }\n",
              "\n",
              "    [theme=dark] .colab-df-convert {\n",
              "      background-color: #3B4455;\n",
              "      fill: #D2E3FC;\n",
              "    }\n",
              "\n",
              "    [theme=dark] .colab-df-convert:hover {\n",
              "      background-color: #434B5C;\n",
              "      box-shadow: 0px 1px 3px 1px rgba(0, 0, 0, 0.15);\n",
              "      filter: drop-shadow(0px 1px 2px rgba(0, 0, 0, 0.3));\n",
              "      fill: #FFFFFF;\n",
              "    }\n",
              "  </style>\n",
              "\n",
              "      <script>\n",
              "        const buttonEl =\n",
              "          document.querySelector('#df-767af0ea-f551-4c05-98b3-b4703e8b7be8 button.colab-df-convert');\n",
              "        buttonEl.style.display =\n",
              "          google.colab.kernel.accessAllowed ? 'block' : 'none';\n",
              "\n",
              "        async function convertToInteractive(key) {\n",
              "          const element = document.querySelector('#df-767af0ea-f551-4c05-98b3-b4703e8b7be8');\n",
              "          const dataTable =\n",
              "            await google.colab.kernel.invokeFunction('convertToInteractive',\n",
              "                                                     [key], {});\n",
              "          if (!dataTable) return;\n",
              "\n",
              "          const docLinkHtml = 'Like what you see? Visit the ' +\n",
              "            '<a target=\"_blank\" href=https://colab.research.google.com/notebooks/data_table.ipynb>data table notebook</a>'\n",
              "            + ' to learn more about interactive tables.';\n",
              "          element.innerHTML = '';\n",
              "          dataTable['output_type'] = 'display_data';\n",
              "          await google.colab.output.renderOutput(dataTable, element);\n",
              "          const docLink = document.createElement('div');\n",
              "          docLink.innerHTML = docLinkHtml;\n",
              "          element.appendChild(docLink);\n",
              "        }\n",
              "      </script>\n",
              "    </div>\n",
              "  </div>\n",
              "  "
            ],
            "text/plain": [
              "   fixed_acidity  volatile_acidity  citric_acid  ...  sulphates  alcohol  quality\n",
              "0            7.4              0.70         0.00  ...       0.56      9.4        5\n",
              "1            7.8              0.88         0.00  ...       0.68      9.8        5\n",
              "2            7.8              0.76         0.04  ...       0.65      9.8        5\n",
              "3           11.2              0.28         0.56  ...       0.58      9.8        6\n",
              "4            7.4              0.70         0.00  ...       0.56      9.4        5\n",
              "\n",
              "[5 rows x 12 columns]"
            ]
          },
          "metadata": {},
          "execution_count": 3
        }
      ]
    },
    {
      "cell_type": "markdown",
      "source": [
        "**Remove Duplicates**"
      ],
      "metadata": {
        "id": "jNjtDrL2bglI"
      }
    },
    {
      "cell_type": "code",
      "source": [
        "#Number of duplicate rows\n",
        "print('Number of duplicated rows =', df.duplicated().sum())"
      ],
      "metadata": {
        "colab": {
          "base_uri": "https://localhost:8080/"
        },
        "id": "q2Aaz6IXRRMk",
        "outputId": "88dabbb1-a6d6-4d0a-9ccf-904183d5295a"
      },
      "execution_count": null,
      "outputs": [
        {
          "output_type": "stream",
          "name": "stdout",
          "text": [
            "Number of duplicated rows = 240\n"
          ]
        }
      ]
    },
    {
      "cell_type": "code",
      "source": [
        "#Remove duplicate rows\n",
        "df.drop_duplicates(inplace=True)\n",
        "df.reset_index(drop=True, inplace=True)\n",
        "print('Number of rows after removing duplicates =', len(df))"
      ],
      "metadata": {
        "colab": {
          "base_uri": "https://localhost:8080/"
        },
        "id": "M1JsxsY9RVkN",
        "outputId": "05a9fde9-8d95-406f-aaca-b28cc420895e"
      },
      "execution_count": null,
      "outputs": [
        {
          "output_type": "stream",
          "name": "stdout",
          "text": [
            "Number of rows after removing duplicates = 1359\n"
          ]
        }
      ]
    },
    {
      "cell_type": "markdown",
      "source": [
        "# **Data analysis and Visualization**"
      ],
      "metadata": {
        "id": "iKFTZt4Ebm1y"
      }
    },
    {
      "cell_type": "code",
      "source": [
        "#Number of rows and columns\n",
        "df.shape"
      ],
      "metadata": {
        "colab": {
          "base_uri": "https://localhost:8080/"
        },
        "id": "MFx7U1PNRa21",
        "outputId": "09c09b67-dbea-49ef-dbe8-9e31b6312334"
      },
      "execution_count": null,
      "outputs": [
        {
          "output_type": "execute_result",
          "data": {
            "text/plain": [
              "(1359, 12)"
            ]
          },
          "metadata": {},
          "execution_count": 6
        }
      ]
    },
    {
      "cell_type": "code",
      "source": [
        "#Data types\n",
        "df.info()"
      ],
      "metadata": {
        "colab": {
          "base_uri": "https://localhost:8080/"
        },
        "id": "qF4gqm-WReiO",
        "outputId": "b4983a87-9a67-4709-857e-844d327bc07b"
      },
      "execution_count": null,
      "outputs": [
        {
          "output_type": "stream",
          "name": "stdout",
          "text": [
            "<class 'pandas.core.frame.DataFrame'>\n",
            "RangeIndex: 1359 entries, 0 to 1358\n",
            "Data columns (total 12 columns):\n",
            " #   Column                Non-Null Count  Dtype  \n",
            "---  ------                --------------  -----  \n",
            " 0   fixed_acidity         1359 non-null   float64\n",
            " 1   volatile_acidity      1359 non-null   float64\n",
            " 2   citric_acid           1359 non-null   float64\n",
            " 3   residual_sugar        1359 non-null   float64\n",
            " 4   chlorides             1359 non-null   float64\n",
            " 5   free_sulfur_dioxide   1359 non-null   float64\n",
            " 6   total_sulfur_dioxide  1359 non-null   float64\n",
            " 7   density               1359 non-null   float64\n",
            " 8   pH                    1359 non-null   float64\n",
            " 9   sulphates             1359 non-null   float64\n",
            " 10  alcohol               1359 non-null   float64\n",
            " 11  quality               1359 non-null   int64  \n",
            "dtypes: float64(11), int64(1)\n",
            "memory usage: 127.5 KB\n"
          ]
        }
      ]
    },
    {
      "cell_type": "code",
      "source": [
        "#Missing values\n",
        "print('Number of missing values:',df.isna().sum().sum())"
      ],
      "metadata": {
        "colab": {
          "base_uri": "https://localhost:8080/"
        },
        "id": "LgjD2q6BRirA",
        "outputId": "6dbc9c4a-6f39-4632-b144-a386f8495e43"
      },
      "execution_count": null,
      "outputs": [
        {
          "output_type": "stream",
          "name": "stdout",
          "text": [
            "Number of missing values: 0\n"
          ]
        }
      ]
    },
    {
      "cell_type": "code",
      "source": [
        "#Correlation matrix\n",
        "#Draw a heat map to understand the correlation between the variables. \n",
        "plt.figure(figsize=(10,10))\n",
        "sn.heatmap(df.corr(),cbar=True, fmt='.1f', annot=True, annot_kws={'size':8}, cmap='Purples')"
      ],
      "metadata": {
        "colab": {
          "base_uri": "https://localhost:8080/",
          "height": 700
        },
        "id": "uDA5UyBrRl6_",
        "outputId": "39b192c3-1ae3-4f1c-bcfd-c321ecd63286"
      },
      "execution_count": null,
      "outputs": [
        {
          "output_type": "execute_result",
          "data": {
            "text/plain": [
              "<matplotlib.axes._subplots.AxesSubplot at 0x7fe3c64eff10>"
            ]
          },
          "metadata": {},
          "execution_count": 9
        },
        {
          "output_type": "display_data",
          "data": {
            "image/png": "[encoded data removed]",
            "text/plain": [
              "<Figure size 720x720 with 2 Axes>"
            ]
          },
          "metadata": {
            "needs_background": "light"
          }
        }
      ]
    },
    {
      "cell_type": "markdown",
      "source": [
        "This heat map shows that there is a significant relationship between the two variables quality and volatile acidity. It’s a negative correlation. And also there is a positive significant correlation between quality and alcohol. Therefore volatile acidity and alcohol may be more important when creating a model to predict wine quality."
      ],
      "metadata": {
        "id": "coFC2j7Jbtlo"
      }
    },
    {
      "cell_type": "code",
      "source": [
        "#Number of observations in each quality group\n",
        "df.quality.value_counts()"
      ],
      "metadata": {
        "colab": {
          "base_uri": "https://localhost:8080/"
        },
        "id": "KdNoOCwCRqLF",
        "outputId": "6b1e8b67-5933-4551-a765-69055f8ecca0"
      },
      "execution_count": null,
      "outputs": [
        {
          "output_type": "execute_result",
          "data": {
            "text/plain": [
              "5    577\n",
              "6    535\n",
              "7    167\n",
              "4     53\n",
              "8     17\n",
              "3     10\n",
              "Name: quality, dtype: int64"
            ]
          },
          "metadata": {},
          "execution_count": 10
        }
      ]
    },
    {
      "cell_type": "markdown",
      "source": [
        "We can notice there is a data imbalance here. Using a graphical method this can be visualized clearly."
      ],
      "metadata": {
        "id": "UWYpgB7Qb6L9"
      }
    },
    {
      "cell_type": "code",
      "source": [
        "#Barplot of wine quality\n",
        "plt.figure(figsize = (4,4))\n",
        "sn.catplot(x='quality', data=df, kind='count')\n",
        "plt.title(\"Bar plot of wine quality\")\n",
        "plt.show()"
      ],
      "metadata": {
        "colab": {
          "base_uri": "https://localhost:8080/",
          "height": 401
        },
        "id": "c4QOXJAkRuaa",
        "outputId": "9deab584-5a3e-47e1-fd07-e67ef0621c0b"
      },
      "execution_count": null,
      "outputs": [
        {
          "output_type": "display_data",
          "data": {
            "text/plain": [
              "<Figure size 288x288 with 0 Axes>"
            ]
          },
          "metadata": {}
        },
        {
          "output_type": "display_data",
          "data": {
            "image/png": "[encoded data removed]",
            "text/plain": [
              "<Figure size 360x360 with 1 Axes>"
            ]
          },
          "metadata": {
            "needs_background": "light"
          }
        }
      ]
    },
    {
      "cell_type": "markdown",
      "source": [
        "Quality level score is in between 3 and 8. It doesn’t mean much and also data are extremely imbalanced. Bar sizes of quality score 5 and 6 are extremely larger than others. To overcome this problems split this in to 2 groups and try to balance it. Create a new variable called 'qualityN'. When the red wine quality is less than or equal to 5 consider the quality as ‘Bad’ and marks it as ‘0’. When the red wine quality is greater than 5 consider the quality as ‘Good’ and mark it as ‘1’."
      ],
      "metadata": {
        "id": "4qDK7nsSb-1o"
      }
    },
    {
      "cell_type": "code",
      "source": [
        "#Wine quality split in to 2 classes; Good(1), Bad(0)\n",
        "df['qualityN']=pd.cut(df['quality'],bins=[0,5.5,10], labels=[0,1])\n",
        "df.head()"
      ],
      "metadata": {
        "colab": {
          "base_uri": "https://localhost:8080/",
          "height": 270
        },
        "id": "xfR8qE-bRzRd",
        "outputId": "44de849d-9035-4d20-fdac-ec41e522a10c"
      },
      "execution_count": null,
      "outputs": [
        {
          "output_type": "execute_result",
          "data": {
            "text/html": [
              "\n",
              "  <div id=\"df-42211e3b-e8f2-4192-a323-8ddf306952fa\">\n",
              "    <div class=\"colab-df-container\">\n",
              "      <div>\n",
              "<style scoped>\n",
              "    .dataframe tbody tr th:only-of-type {\n",
              "        vertical-align: middle;\n",
              "    }\n",
              "\n",
              "    .dataframe tbody tr th {\n",
              "        vertical-align: top;\n",
              "    }\n",
              "\n",
              "    .dataframe thead th {\n",
              "        text-align: right;\n",
              "    }\n",
              "</style>\n",
              "<table border=\"1\" class=\"dataframe\">\n",
              "  <thead>\n",
              "    <tr style=\"text-align: right;\">\n",
              "      <th></th>\n",
              "      <th>fixed_acidity</th>\n",
              "      <th>volatile_acidity</th>\n",
              "      <th>citric_acid</th>\n",
              "      <th>residual_sugar</th>\n",
              "      <th>chlorides</th>\n",
              "      <th>free_sulfur_dioxide</th>\n",
              "      <th>total_sulfur_dioxide</th>\n",
              "      <th>density</th>\n",
              "      <th>pH</th>\n",
              "      <th>sulphates</th>\n",
              "      <th>alcohol</th>\n",
              "      <th>quality</th>\n",
              "      <th>qualityN</th>\n",
              "    </tr>\n",
              "  </thead>\n",
              "  <tbody>\n",
              "    <tr>\n",
              "      <th>0</th>\n",
              "      <td>7.4</td>\n",
              "      <td>0.70</td>\n",
              "      <td>0.00</td>\n",
              "      <td>1.9</td>\n",
              "      <td>0.076</td>\n",
              "      <td>11.0</td>\n",
              "      <td>34.0</td>\n",
              "      <td>0.9978</td>\n",
              "      <td>3.51</td>\n",
              "      <td>0.56</td>\n",
              "      <td>9.4</td>\n",
              "      <td>5</td>\n",
              "      <td>0</td>\n",
              "    </tr>\n",
              "    <tr>\n",
              "      <th>1</th>\n",
              "      <td>7.8</td>\n",
              "      <td>0.88</td>\n",
              "      <td>0.00</td>\n",
              "      <td>2.6</td>\n",
              "      <td>0.098</td>\n",
              "      <td>25.0</td>\n",
              "      <td>67.0</td>\n",
              "      <td>0.9968</td>\n",
              "      <td>3.20</td>\n",
              "      <td>0.68</td>\n",
              "      <td>9.8</td>\n",
              "      <td>5</td>\n",
              "      <td>0</td>\n",
              "    </tr>\n",
              "    <tr>\n",
              "      <th>2</th>\n",
              "      <td>7.8</td>\n",
              "      <td>0.76</td>\n",
              "      <td>0.04</td>\n",
              "      <td>2.3</td>\n",
              "      <td>0.092</td>\n",
              "      <td>15.0</td>\n",
              "      <td>54.0</td>\n",
              "      <td>0.9970</td>\n",
              "      <td>3.26</td>\n",
              "      <td>0.65</td>\n",
              "      <td>9.8</td>\n",
              "      <td>5</td>\n",
              "      <td>0</td>\n",
              "    </tr>\n",
              "    <tr>\n",
              "      <th>3</th>\n",
              "      <td>11.2</td>\n",
              "      <td>0.28</td>\n",
              "      <td>0.56</td>\n",
              "      <td>1.9</td>\n",
              "      <td>0.075</td>\n",
              "      <td>17.0</td>\n",
              "      <td>60.0</td>\n",
              "      <td>0.9980</td>\n",
              "      <td>3.16</td>\n",
              "      <td>0.58</td>\n",
              "      <td>9.8</td>\n",
              "      <td>6</td>\n",
              "      <td>1</td>\n",
              "    </tr>\n",
              "    <tr>\n",
              "      <th>4</th>\n",
              "      <td>7.4</td>\n",
              "      <td>0.66</td>\n",
              "      <td>0.00</td>\n",
              "      <td>1.8</td>\n",
              "      <td>0.075</td>\n",
              "      <td>13.0</td>\n",
              "      <td>40.0</td>\n",
              "      <td>0.9978</td>\n",
              "      <td>3.51</td>\n",
              "      <td>0.56</td>\n",
              "      <td>9.4</td>\n",
              "      <td>5</td>\n",
              "      <td>0</td>\n",
              "    </tr>\n",
              "  </tbody>\n",
              "</table>\n",
              "</div>\n",
              "      <button class=\"colab-df-convert\" onclick=\"convertToInteractive('df-42211e3b-e8f2-4192-a323-8ddf306952fa')\"\n",
              "              title=\"Convert this dataframe to an interactive table.\"\n",
              "              style=\"display:none;\">\n",
              "        \n",
              "  <svg xmlns=\"http://www.w3.org/2000/svg\" height=\"24px\"viewBox=\"0 0 24 24\"\n",
              "       width=\"24px\">\n",
              "    <path d=\"M0 0h24v24H0V0z\" fill=\"none\"/>\n",
              "    <path d=\"M18.56 5.44l.94 2.06.94-2.06 2.06-.94-2.06-.94-.94-2.06-.94 2.06-2.06.94zm-11 1L8.5 8.5l.94-2.06 2.06-.94-2.06-.94L8.5 2.5l-.94 2.06-2.06.94zm10 10l.94 2.06.94-2.06 2.06-.94-2.06-.94-.94-2.06-.94 2.06-2.06.94z\"/><path d=\"M17.41 7.96l-1.37-1.37c-.4-.4-.92-.59-1.43-.59-.52 0-1.04.2-1.43.59L10.3 9.45l-7.72 7.72c-.78.78-.78 2.05 0 2.83L4 21.41c.39.39.9.59 1.41.59.51 0 1.02-.2 1.41-.59l7.78-7.78 2.81-2.81c.8-.78.8-2.07 0-2.86zM5.41 20L4 18.59l7.72-7.72 1.47 1.35L5.41 20z\"/>\n",
              "  </svg>\n",
              "      </button>\n",
              "      \n",
              "  <style>\n",
              "    .colab-df-container {\n",
              "      display:flex;\n",
              "      flex-wrap:wrap;\n",
              "      gap: 12px;\n",
              "    }\n",
              "\n",
              "    .colab-df-convert {\n",
              "      background-color: #E8F0FE;\n",
              "      border: none;\n",
              "      border-radius: 50%;\n",
              "      cursor: pointer;\n",
              "      display: none;\n",
              "      fill: #1967D2;\n",
              "      height: 32px;\n",
              "      padding: 0 0 0 0;\n",
              "      width: 32px;\n",
              "    }\n",
              "\n",
              "    .colab-df-convert:hover {\n",
              "      background-color: #E2EBFA;\n",
              "      box-shadow: 0px 1px 2px rgba(60, 64, 67, 0.3), 0px 1px 3px 1px rgba(60, 64, 67, 0.15);\n",
              "      fill: #174EA6;\n",
              "    }\n",
              "\n",
              "    [theme=dark] .colab-df-convert {\n",
              "      background-color: #3B4455;\n",
              "      fill: #D2E3FC;\n",
              "    }\n",
              "\n",
              "    [theme=dark] .colab-df-convert:hover {\n",
              "      background-color: #434B5C;\n",
              "      box-shadow: 0px 1px 3px 1px rgba(0, 0, 0, 0.15);\n",
              "      filter: drop-shadow(0px 1px 2px rgba(0, 0, 0, 0.3));\n",
              "      fill: #FFFFFF;\n",
              "    }\n",
              "  </style>\n",
              "\n",
              "      <script>\n",
              "        const buttonEl =\n",
              "          document.querySelector('#df-42211e3b-e8f2-4192-a323-8ddf306952fa button.colab-df-convert');\n",
              "        buttonEl.style.display =\n",
              "          google.colab.kernel.accessAllowed ? 'block' : 'none';\n",
              "\n",
              "        async function convertToInteractive(key) {\n",
              "          const element = document.querySelector('#df-42211e3b-e8f2-4192-a323-8ddf306952fa');\n",
              "          const dataTable =\n",
              "            await google.colab.kernel.invokeFunction('convertToInteractive',\n",
              "                                                     [key], {});\n",
              "          if (!dataTable) return;\n",
              "\n",
              "          const docLinkHtml = 'Like what you see? Visit the ' +\n",
              "            '<a target=\"_blank\" href=https://colab.research.google.com/notebooks/data_table.ipynb>data table notebook</a>'\n",
              "            + ' to learn more about interactive tables.';\n",
              "          element.innerHTML = '';\n",
              "          dataTable['output_type'] = 'display_data';\n",
              "          await google.colab.output.renderOutput(dataTable, element);\n",
              "          const docLink = document.createElement('div');\n",
              "          docLink.innerHTML = docLinkHtml;\n",
              "          element.appendChild(docLink);\n",
              "        }\n",
              "      </script>\n",
              "    </div>\n",
              "  </div>\n",
              "  "
            ],
            "text/plain": [
              "   fixed_acidity  volatile_acidity  citric_acid  ...  alcohol  quality  qualityN\n",
              "0            7.4              0.70         0.00  ...      9.4        5         0\n",
              "1            7.8              0.88         0.00  ...      9.8        5         0\n",
              "2            7.8              0.76         0.04  ...      9.8        5         0\n",
              "3           11.2              0.28         0.56  ...      9.8        6         1\n",
              "4            7.4              0.66         0.00  ...      9.4        5         0\n",
              "\n",
              "[5 rows x 13 columns]"
            ]
          },
          "metadata": {},
          "execution_count": 12
        }
      ]
    },
    {
      "cell_type": "code",
      "source": [
        "#counts\n",
        "df.qualityN.value_counts()"
      ],
      "metadata": {
        "colab": {
          "base_uri": "https://localhost:8080/"
        },
        "id": "EZT8yFsfR4Tv",
        "outputId": "ddcb6fad-4d3e-4dfe-b879-db74a217631b"
      },
      "execution_count": null,
      "outputs": [
        {
          "output_type": "execute_result",
          "data": {
            "text/plain": [
              "1    719\n",
              "0    640\n",
              "Name: qualityN, dtype: int64"
            ]
          },
          "metadata": {},
          "execution_count": 13
        }
      ]
    },
    {
      "cell_type": "markdown",
      "source": [
        "There are 719 good quality wines and 640 bad quality wines. According to the new quality labels, data set is quite balanced. Following bar plot also visually represent that."
      ],
      "metadata": {
        "id": "ZmNUnybUcUdZ"
      }
    },
    {
      "cell_type": "code",
      "source": [
        "#Bar plot after new quality labels\n",
        "plt.figure(figsize = (4,4))\n",
        "sn.catplot(x='qualityN', data=df, kind='count')\n",
        "plt.show()"
      ],
      "metadata": {
        "colab": {
          "base_uri": "https://localhost:8080/",
          "height": 386
        },
        "id": "L7oHL8C9R77-",
        "outputId": "67e5bc51-7c51-4fcf-8680-8b6c3569846c"
      },
      "execution_count": null,
      "outputs": [
        {
          "output_type": "display_data",
          "data": {
            "text/plain": [
              "<Figure size 288x288 with 0 Axes>"
            ]
          },
          "metadata": {}
        },
        {
          "output_type": "display_data",
          "data": {
            "image/png": "[encoded data removed]",
            "text/plain": [
              "<Figure size 360x360 with 1 Axes>"
            ]
          },
          "metadata": {
            "needs_background": "light"
          }
        }
      ]
    },
    {
      "cell_type": "markdown",
      "source": [
        "# **Training and Testing datasets**"
      ],
      "metadata": {
        "id": "C4AizmcNcYqp"
      }
    },
    {
      "cell_type": "code",
      "source": [
        "#Defining the training and testing sets\n",
        "X_train, X_test, Y_train, Y_test = train_test_split(df.drop(['qualityN','quality'],axis='columns'),df.qualityN,test_size=0.2)"
      ],
      "metadata": {
        "id": "fCCjOd9LSAE7"
      },
      "execution_count": null,
      "outputs": []
    },
    {
      "cell_type": "markdown",
      "source": [
        "**Applying Random Forest Classifier**"
      ],
      "metadata": {
        "id": "KcyfE4oHcdsv"
      }
    },
    {
      "cell_type": "code",
      "source": [
        "#Train classifier\n",
        "model = RandomForestClassifier()\n",
        "model.fit(X_train,Y_train)"
      ],
      "metadata": {
        "id": "XVoQCjPtSDdt",
        "outputId": "fecaa27e-0bf5-4100-ce78-1fe8e8cd2096",
        "colab": {
          "base_uri": "https://localhost:8080/"
        }
      },
      "execution_count": null,
      "outputs": [
        {
          "output_type": "execute_result",
          "data": {
            "text/plain": [
              "RandomForestClassifier()"
            ]
          },
          "metadata": {},
          "execution_count": 16
        }
      ]
    },
    {
      "cell_type": "markdown",
      "source": [
        "**Accuracy**"
      ],
      "metadata": {
        "id": "UjenZ9Xycivc"
      }
    },
    {
      "cell_type": "code",
      "source": [
        "print('Accuracy:',model.score(X_test,Y_test)*100,'%')"
      ],
      "metadata": {
        "id": "3qHai9G-SJD2",
        "outputId": "1ec66102-3211-4ef3-f810-146f35623448",
        "colab": {
          "base_uri": "https://localhost:8080/"
        }
      },
      "execution_count": null,
      "outputs": [
        {
          "output_type": "stream",
          "name": "stdout",
          "text": [
            "Accuracy: 75.36764705882352 %\n"
          ]
        }
      ]
    }
  ]
}